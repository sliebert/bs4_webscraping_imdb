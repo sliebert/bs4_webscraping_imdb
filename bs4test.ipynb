{
 "cells": [
  {
   "cell_type": "markdown",
   "metadata": {},
   "source": [
    "# Using BeautifulSoup4 to scrape IMDb website for budget and metascore"
   ]
  },
  {
   "cell_type": "code",
   "execution_count": null,
   "metadata": {
    "collapsed": true,
    "jupyter": {
     "outputs_hidden": true
    }
   },
   "outputs": [],
   "source": [
    "conda install requests"
   ]
  },
  {
   "cell_type": "code",
   "execution_count": 8,
   "metadata": {
    "collapsed": true,
    "jupyter": {
     "outputs_hidden": true
    }
   },
   "outputs": [
    {
     "name": "stdout",
     "output_type": "stream",
     "text": [
      "Collecting package metadata (current_repodata.json): ...working... done\n",
      "Solving environment: ...working... done\n",
      "\n",
      "# All requested packages already installed.\n",
      "\n",
      "\n",
      "Note: you may need to restart the kernel to use updated packages.\n"
     ]
    }
   ],
   "source": [
    "conda install beautifulsoup4"
   ]
  },
  {
   "cell_type": "code",
   "execution_count": 21,
   "metadata": {},
   "outputs": [],
   "source": [
    "import requests\n",
    "from bs4 import BeautifulSoup\n",
    "import pandas as pd\n",
    "import re"
   ]
  },
  {
   "cell_type": "code",
   "execution_count": 22,
   "metadata": {},
   "outputs": [],
   "source": [
    "df = pd.read_csv('C:/Users/Sophia/Documents/academy-awards/missingbudmeta.csv')"
   ]
  },
  {
   "cell_type": "code",
   "execution_count": 23,
   "metadata": {},
   "outputs": [],
   "source": [
    "def getdeets(id1):\n",
    "    URL = 'https://www.imdb.com/title/'+id1\n",
    "    page=requests.get(URL)\n",
    "    soup=BeautifulSoup(page.content, 'html.parser')\n",
    "    ## getting metacritic score\n",
    "    try:\n",
    "        mscore = soup.find('div',class_='title-overview').find('div',id='title-overview-widget').find('div',class_='plot_summary_wrapper').find('div',class_='titleReviewBar').find('div',class_='titleReviewBarItem').find('a').text.strip()\n",
    "    except AttributeError:\n",
    "        mscore = 'nan'\n",
    "    ## if no mscore, then it defaults to nan.\n",
    "    ## if len(mscore)>3 then it has selected the next item, which is not the mscore. mscore is at most 100.\n",
    "    if len(mscore)>3:\n",
    "        mscore='nan'\n",
    "    ## getting budget\n",
    "    details = soup.find('div',id='titleDetails').find_all(class_='txt-block')\n",
    "    budgettext = 0\n",
    "    try:\n",
    "        for x in details:\n",
    "            if 'Budget' in x.text:\n",
    "                budgettext = (x.text.strip().split('\\n')[0].split(':')[1])\n",
    "    except AttributeError:\n",
    "        budgettext = 'nan'\n",
    "    ## stripping budgettext string\n",
    "    if type(budgettext)==str:\n",
    "        budgettext = re.sub(r'[^\\w\\s]','',budgettext)\n",
    "    else: budgettext=='nan'\n",
    "    return mscore,budgettext\n",
    "    "
   ]
  },
  {
   "cell_type": "code",
   "execution_count": 30,
   "metadata": {},
   "outputs": [
    {
     "name": "stdout",
     "output_type": "stream",
     "text": [
      "53\n",
      "200000000\n"
     ]
    }
   ],
   "source": [
    "##testing on one id\n",
    "a1,b1 = getdeets(df1.imdb_title_id[1])\n",
    "print(a1)\n",
    "print(b1)"
   ]
  },
  {
   "cell_type": "code",
   "execution_count": 34,
   "metadata": {
    "collapsed": true,
    "jupyter": {
     "outputs_hidden": true
    }
   },
   "outputs": [
    {
     "name": "stderr",
     "output_type": "stream",
     "text": [
      "C:\\Users\\Sophia\\Anaconda3\\lib\\site-packages\\ipykernel_launcher.py:1: SettingWithCopyWarning: \n",
      "A value is trying to be set on a copy of a slice from a DataFrame.\n",
      "Try using .loc[row_indexer,col_indexer] = value instead\n",
      "\n",
      "See the caveats in the documentation: http://pandas.pydata.org/pandas-docs/stable/user_guide/indexing.html#returning-a-view-versus-a-copy\n",
      "  \"\"\"Entry point for launching an IPython kernel.\n",
      "C:\\Users\\Sophia\\Anaconda3\\lib\\site-packages\\ipykernel_launcher.py:2: SettingWithCopyWarning: \n",
      "A value is trying to be set on a copy of a slice from a DataFrame.\n",
      "Try using .loc[row_indexer,col_indexer] = value instead\n",
      "\n",
      "See the caveats in the documentation: http://pandas.pydata.org/pandas-docs/stable/user_guide/indexing.html#returning-a-view-versus-a-copy\n",
      "  \n",
      "C:\\Users\\Sophia\\Anaconda3\\lib\\site-packages\\ipykernel_launcher.py:6: SettingWithCopyWarning: \n",
      "A value is trying to be set on a copy of a slice from a DataFrame\n",
      "\n",
      "See the caveats in the documentation: http://pandas.pydata.org/pandas-docs/stable/user_guide/indexing.html#returning-a-view-versus-a-copy\n",
      "  \n",
      "C:\\Users\\Sophia\\Anaconda3\\lib\\site-packages\\ipykernel_launcher.py:7: SettingWithCopyWarning: \n",
      "A value is trying to be set on a copy of a slice from a DataFrame\n",
      "\n",
      "See the caveats in the documentation: http://pandas.pydata.org/pandas-docs/stable/user_guide/indexing.html#returning-a-view-versus-a-copy\n",
      "  import sys\n"
     ]
    }
   ],
   "source": [
    "## actually running on the dataframe df\n",
    "\n",
    "df['mscore'] = 0\n",
    "df['budg'] = 0\n",
    "for ind,row in df.iterrows():\n",
    "    id1 = row['imdb_title_id']\n",
    "    mscore, budg = getdeets(id1)\n",
    "    df['mscore'][ind] = mscore\n",
    "    df['budg'][ind] = budg"
   ]
  }
 ],
 "metadata": {
  "kernelspec": {
   "display_name": "Python 3",
   "language": "python",
   "name": "python3"
  },
  "language_info": {
   "codemirror_mode": {
    "name": "ipython",
    "version": 3
   },
   "file_extension": ".py",
   "mimetype": "text/x-python",
   "name": "python",
   "nbconvert_exporter": "python",
   "pygments_lexer": "ipython3",
   "version": "3.7.4"
  }
 },
 "nbformat": 4,
 "nbformat_minor": 4
}
